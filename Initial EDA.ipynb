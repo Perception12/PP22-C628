{
  "cells": [
    {
      "cell_type": "code",
      "execution_count": null,
      "id": "8aeea982",
      "metadata": {
        "id": "8aeea982"
      },
      "outputs": [],
      "source": [
        "import pandas as pd \n",
        "import numpy as np\n",
        "import seaborn as sns\n",
        "import matplotlib.pyplot as plt\n"
      ]
    },
    {
      "cell_type": "code",
      "execution_count": null,
      "id": "3d9bc729",
      "metadata": {
        "id": "3d9bc729"
      },
      "outputs": [],
      "source": [
        "university_ranking18 = pd.read_csv('2018-QS-World-University-Rankings.csv',\n",
        "                                   encoding='latin-1',header=[0,1])\n",
        "university_ranking19 = pd.read_csv('2019-QS-World-University-Rankings.csv',\n",
        "                                   encoding='latin-1',header=[0,1])\n",
        "university_ranking20 = pd.read_csv('2020-QS-World-University-Rankings.csv',\n",
        "                                   encoding='latin-1',header=[0,1])"
      ]
    },
    {
      "cell_type": "markdown",
      "source": [
        "# **For 2020 Data**"
      ],
      "metadata": {
        "id": "pO651nHM3YZu"
      },
      "id": "pO651nHM3YZu"
    },
    {
      "cell_type": "code",
      "source": [
        "university_ranking20.head()"
      ],
      "metadata": {
        "id": "pdlDNA9jmXtA"
      },
      "id": "pdlDNA9jmXtA",
      "execution_count": null,
      "outputs": []
    },
    {
      "cell_type": "markdown",
      "source": [
        "# **Aligning Columns**"
      ],
      "metadata": {
        "id": "mEmQpLC2mpUK"
      },
      "id": "mEmQpLC2mpUK"
    },
    {
      "cell_type": "code",
      "source": [
        "cols = []\n",
        "for column in university_ranking20:\n",
        "    if column[0].startswith('Unnamed'):\n",
        "        cols.append(column[1])\n",
        "    elif column[1].startswith('Unnamed'):\n",
        "        cols.append(column[0])\n",
        "    else:\n",
        "        cols.append(column[0]+'_'+column[1])\n",
        "university_ranking20.columns = cols"
      ],
      "metadata": {
        "id": "J7P4nMjBmbsK"
      },
      "id": "J7P4nMjBmbsK",
      "execution_count": null,
      "outputs": []
    },
    {
      "cell_type": "code",
      "source": [
        "cols"
      ],
      "metadata": {
        "id": "Na7CGTA5mlIp"
      },
      "id": "Na7CGTA5mlIp",
      "execution_count": null,
      "outputs": []
    },
    {
      "cell_type": "markdown",
      "source": [
        "# **Cleaning Data**"
      ],
      "metadata": {
        "id": "H7a4HWZemyi9"
      },
      "id": "H7a4HWZemyi9"
    },
    {
      "cell_type": "code",
      "source": [
        "university_ranking20.replace('-', np.nan,inplace=True)"
      ],
      "metadata": {
        "id": "VIF835dKmxHr"
      },
      "id": "VIF835dKmxHr",
      "execution_count": null,
      "outputs": []
    },
    {
      "cell_type": "code",
      "source": [
        "university_ranking20_only_ranking = university_ranking20[~university_ranking20['Rank in 2020'].isnull()]"
      ],
      "metadata": {
        "id": "RVZlalE_ml77"
      },
      "id": "RVZlalE_ml77",
      "execution_count": null,
      "outputs": []
    },
    {
      "cell_type": "code",
      "source": [
        "university_ranking20_only_ranking.head()"
      ],
      "metadata": {
        "id": "d6A9GX8QnFoT"
      },
      "id": "d6A9GX8QnFoT",
      "execution_count": null,
      "outputs": []
    },
    {
      "cell_type": "code",
      "source": [
        "university_ranking20_only_ranking.info()"
      ],
      "metadata": {
        "id": "hAIM-gvunFlb"
      },
      "id": "hAIM-gvunFlb",
      "execution_count": null,
      "outputs": []
    },
    {
      "cell_type": "code",
      "source": [
        "university_ranking20_only_ranking.loc['Rank in 2020'] = university_ranking20_only_ranking['Rank in 2020'].str.strip().str.replace('=','')"
      ],
      "metadata": {
        "id": "HV0-R7PvpwAC"
      },
      "id": "HV0-R7PvpwAC",
      "execution_count": null,
      "outputs": []
    },
    {
      "cell_type": "code",
      "source": [
        "university_ranking20_only_ranking.drop(university_ranking20_only_ranking.index[len(university_ranking20_only_ranking)-1], inplace=True)"
      ],
      "metadata": {
        "id": "NztBmFvApyk2"
      },
      "id": "NztBmFvApyk2",
      "execution_count": null,
      "outputs": []
    },
    {
      "cell_type": "code",
      "source": [
        "university_ranking20_only_ranking['Country'].unique()"
      ],
      "metadata": {
        "id": "fj311PgU2rUF"
      },
      "id": "fj311PgU2rUF",
      "execution_count": null,
      "outputs": []
    },
    {
      "cell_type": "code",
      "source": [
        "university_ranking20_only_ranking['Classification_SIZE'].unique()"
      ],
      "metadata": {
        "id": "Yl8MHK142tLK"
      },
      "id": "Yl8MHK142tLK",
      "execution_count": null,
      "outputs": []
    },
    {
      "cell_type": "code",
      "source": [
        "university_ranking20_only_ranking['FOCUS'].isnull().sum()"
      ],
      "metadata": {
        "id": "DaQ7Va-v2up0"
      },
      "id": "DaQ7Va-v2up0",
      "execution_count": null,
      "outputs": []
    },
    {
      "cell_type": "code",
      "source": [
        "university_ranking20_only_ranking[university_ranking20_only_ranking['RESEARCH INTENSITY'].isnull()]"
      ],
      "metadata": {
        "id": "0gdMpwlJ2umY"
      },
      "id": "0gdMpwlJ2umY",
      "execution_count": null,
      "outputs": []
    },
    {
      "cell_type": "code",
      "source": [
        "university_ranking20_only_ranking.groupby('Country')['Institution Name'].count().nlargest(20)"
      ],
      "metadata": {
        "id": "e_cpJ95_2yKy"
      },
      "id": "e_cpJ95_2yKy",
      "execution_count": null,
      "outputs": []
    },
    {
      "cell_type": "code",
      "source": [
        ""
      ],
      "metadata": {
        "id": "NmGX_J1O3Axh"
      },
      "id": "NmGX_J1O3Axh",
      "execution_count": null,
      "outputs": []
    },
    {
      "cell_type": "markdown",
      "source": [
        "# **For 2019 data**"
      ],
      "metadata": {
        "id": "YyoGtpgX3NMb"
      },
      "id": "YyoGtpgX3NMb"
    },
    {
      "cell_type": "code",
      "source": [
        "university_ranking19.head()"
      ],
      "metadata": {
        "id": "UdV6NUgC4D9L"
      },
      "execution_count": null,
      "outputs": [],
      "id": "UdV6NUgC4D9L"
    },
    {
      "cell_type": "markdown",
      "source": [
        "# **Aligning Columns**"
      ],
      "metadata": {
        "id": "tIDZ51t14D9f"
      },
      "id": "tIDZ51t14D9f"
    },
    {
      "cell_type": "code",
      "source": [
        "cols = []\n",
        "for column in university_ranking19:\n",
        "    if column[0].startswith('Unnamed'):\n",
        "        cols.append(column[1])\n",
        "    elif column[1].startswith('Unnamed'):\n",
        "        cols.append(column[0])\n",
        "    else:\n",
        "        cols.append(column[0]+'_'+column[1])\n",
        "university_ranking19.columns = cols"
      ],
      "metadata": {
        "id": "yFMozT1N4D9f"
      },
      "execution_count": null,
      "outputs": [],
      "id": "yFMozT1N4D9f"
    },
    {
      "cell_type": "code",
      "source": [
        "cols"
      ],
      "metadata": {
        "id": "e2QU87QW4D9f"
      },
      "execution_count": null,
      "outputs": [],
      "id": "e2QU87QW4D9f"
    },
    {
      "cell_type": "markdown",
      "source": [
        "# **Cleaning Data**"
      ],
      "metadata": {
        "id": "-_5ymKAo4D9g"
      },
      "id": "-_5ymKAo4D9g"
    },
    {
      "cell_type": "code",
      "source": [
        "university_ranking19.replace('-', np.nan,inplace=True)"
      ],
      "metadata": {
        "id": "Kq4i7Ife4D9g"
      },
      "execution_count": null,
      "outputs": [],
      "id": "Kq4i7Ife4D9g"
    },
    {
      "cell_type": "code",
      "source": [
        "university_ranking19_only_ranking = university_ranking19[~university_ranking19['Rank in 2019'].isnull()]"
      ],
      "metadata": {
        "id": "qfQAz_hf4D9g"
      },
      "execution_count": null,
      "outputs": [],
      "id": "qfQAz_hf4D9g"
    },
    {
      "cell_type": "code",
      "source": [
        "university_ranking19_only_ranking.head()"
      ],
      "metadata": {
        "id": "o9K74xdn4D9g"
      },
      "execution_count": null,
      "outputs": [],
      "id": "o9K74xdn4D9g"
    },
    {
      "cell_type": "code",
      "source": [
        "university_ranking19_only_ranking.info()"
      ],
      "metadata": {
        "id": "vReFJcrc4D9h"
      },
      "execution_count": null,
      "outputs": [],
      "id": "vReFJcrc4D9h"
    },
    {
      "cell_type": "code",
      "source": [
        "university_ranking19_only_ranking.loc['Rank in 2020'] = university_ranking19_only_ranking['Rank in 2020'].str.strip().str.replace('=','')"
      ],
      "metadata": {
        "id": "40S5RywX4D9h"
      },
      "execution_count": null,
      "outputs": [],
      "id": "40S5RywX4D9h"
    },
    {
      "cell_type": "code",
      "source": [
        "university_ranking19_only_ranking.drop(university_ranking19_only_ranking.index[len(university_ranking19_only_ranking)-1], inplace=True)"
      ],
      "metadata": {
        "id": "CAY5w3Of4D9h"
      },
      "execution_count": null,
      "outputs": [],
      "id": "CAY5w3Of4D9h"
    },
    {
      "cell_type": "code",
      "source": [
        "university_ranking19_only_ranking['Country'].unique()"
      ],
      "metadata": {
        "id": "927WXsT-4D9i"
      },
      "execution_count": null,
      "outputs": [],
      "id": "927WXsT-4D9i"
    },
    {
      "cell_type": "code",
      "source": [
        "university_ranking19_only_ranking['Classification_SIZE'].unique()"
      ],
      "metadata": {
        "id": "NiZvqOMb4D9i"
      },
      "execution_count": null,
      "outputs": [],
      "id": "NiZvqOMb4D9i"
    },
    {
      "cell_type": "code",
      "source": [
        "university_ranking19_only_ranking['FOCUS'].isnull().sum()"
      ],
      "metadata": {
        "id": "96MIYhpr4D9i"
      },
      "execution_count": null,
      "outputs": [],
      "id": "96MIYhpr4D9i"
    },
    {
      "cell_type": "code",
      "source": [
        "university_ranking19_only_ranking[university_ranking19_only_ranking['RESEARCH INTENSITY'].isnull()]"
      ],
      "metadata": {
        "id": "VLi6PFHR4D9i"
      },
      "execution_count": null,
      "outputs": [],
      "id": "VLi6PFHR4D9i"
    },
    {
      "cell_type": "code",
      "source": [
        "university_ranking19_only_ranking.groupby('Country')['Institution Name'].count().nlargest(20)"
      ],
      "metadata": {
        "id": "W4-Lbh4M4D9j"
      },
      "execution_count": null,
      "outputs": [],
      "id": "W4-Lbh4M4D9j"
    },
    {
      "cell_type": "code",
      "source": [
        ""
      ],
      "metadata": {
        "id": "7YayQCJw5GIN"
      },
      "id": "7YayQCJw5GIN",
      "execution_count": null,
      "outputs": []
    },
    {
      "cell_type": "markdown",
      "source": [
        "# **For 2018 data**"
      ],
      "metadata": {
        "id": "X2wRiNVZ5GmJ"
      },
      "id": "X2wRiNVZ5GmJ"
    },
    {
      "cell_type": "code",
      "source": [
        "university_ranking18.head()"
      ],
      "metadata": {
        "id": "Oc5knHdu5GmK"
      },
      "execution_count": null,
      "outputs": [],
      "id": "Oc5knHdu5GmK"
    },
    {
      "cell_type": "markdown",
      "source": [
        "# **Aligning Columns**"
      ],
      "metadata": {
        "id": "6LHJtDt-5GmL"
      },
      "id": "6LHJtDt-5GmL"
    },
    {
      "cell_type": "code",
      "source": [
        "cols = []\n",
        "for column in university_ranking18:\n",
        "    if column[0].startswith('Unnamed'):\n",
        "        cols.append(column[1])\n",
        "    elif column[1].startswith('Unnamed'):\n",
        "        cols.append(column[0])\n",
        "    else:\n",
        "        cols.append(column[0]+'_'+column[1])\n",
        "university_ranking18.columns = cols"
      ],
      "metadata": {
        "id": "oLxIzziO5GmL"
      },
      "execution_count": null,
      "outputs": [],
      "id": "oLxIzziO5GmL"
    },
    {
      "cell_type": "code",
      "source": [
        "cols"
      ],
      "metadata": {
        "id": "MSPOXPjI5GmM"
      },
      "execution_count": null,
      "outputs": [],
      "id": "MSPOXPjI5GmM"
    },
    {
      "cell_type": "markdown",
      "source": [
        "# **Cleaning Data**"
      ],
      "metadata": {
        "id": "A9u7q79O5GmM"
      },
      "id": "A9u7q79O5GmM"
    },
    {
      "cell_type": "code",
      "source": [
        "university_ranking18.replace('-', np.nan,inplace=True)"
      ],
      "metadata": {
        "id": "7aoC5Ssp5GmM"
      },
      "execution_count": null,
      "outputs": [],
      "id": "7aoC5Ssp5GmM"
    },
    {
      "cell_type": "code",
      "source": [
        "university_ranking18_only_ranking = university_ranking18[~university_ranking19['Rank in 2019'].isnull()]"
      ],
      "metadata": {
        "id": "RMjQDgS45GmN"
      },
      "execution_count": null,
      "outputs": [],
      "id": "RMjQDgS45GmN"
    },
    {
      "cell_type": "code",
      "source": [
        "university_ranking18_only_ranking.head()"
      ],
      "metadata": {
        "id": "wPIQTaM75GmN"
      },
      "execution_count": null,
      "outputs": [],
      "id": "wPIQTaM75GmN"
    },
    {
      "cell_type": "code",
      "source": [
        "university_ranking18_only_ranking.info()"
      ],
      "metadata": {
        "id": "BhWP6YH35GmN"
      },
      "execution_count": null,
      "outputs": [],
      "id": "BhWP6YH35GmN"
    },
    {
      "cell_type": "code",
      "source": [
        "university_ranking18_only_ranking.loc['Rank in 2020'] = university_ranking18_only_ranking['Rank in 2020'].str.strip().str.replace('=','')"
      ],
      "metadata": {
        "id": "dh51k7hg5GmN"
      },
      "execution_count": null,
      "outputs": [],
      "id": "dh51k7hg5GmN"
    },
    {
      "cell_type": "code",
      "source": [
        "university_ranking18_only_ranking.drop(university_ranking18_only_ranking.index[len(university_ranking18_only_ranking)-1], inplace=True)"
      ],
      "metadata": {
        "id": "NlzQH33r5GmO"
      },
      "execution_count": null,
      "outputs": [],
      "id": "NlzQH33r5GmO"
    },
    {
      "cell_type": "code",
      "source": [
        "university_ranking18_only_ranking['Country'].unique()"
      ],
      "metadata": {
        "id": "YD778R5J5GmO"
      },
      "execution_count": null,
      "outputs": [],
      "id": "YD778R5J5GmO"
    },
    {
      "cell_type": "code",
      "source": [
        "university_ranking18_only_ranking['Classification_SIZE'].unique()"
      ],
      "metadata": {
        "id": "fSMWtxtS5GmO"
      },
      "execution_count": null,
      "outputs": [],
      "id": "fSMWtxtS5GmO"
    },
    {
      "cell_type": "code",
      "source": [
        "university_ranking18_only_ranking['FOCUS'].isnull().sum()"
      ],
      "metadata": {
        "id": "Vs31Vv8s5GmO"
      },
      "execution_count": null,
      "outputs": [],
      "id": "Vs31Vv8s5GmO"
    },
    {
      "cell_type": "code",
      "source": [
        "university_ranking18_only_ranking[university_ranking18_only_ranking['RESEARCH INTENSITY'].isnull()]"
      ],
      "metadata": {
        "id": "AsFke0AQ5GmP"
      },
      "execution_count": null,
      "outputs": [],
      "id": "AsFke0AQ5GmP"
    },
    {
      "cell_type": "code",
      "source": [
        "university_ranking18_only_ranking.groupby('Country')['Institution Name'].count().nlargest(20)"
      ],
      "metadata": {
        "id": "Rv_43Vrq5GmP"
      },
      "execution_count": null,
      "outputs": [],
      "id": "Rv_43Vrq5GmP"
    }
  ],
  "metadata": {
    "kernelspec": {
      "display_name": "Python 3 (ipykernel)",
      "language": "python",
      "name": "python3"
    },
    "language_info": {
      "codemirror_mode": {
        "name": "ipython",
        "version": 3
      },
      "file_extension": ".py",
      "mimetype": "text/x-python",
      "name": "python",
      "nbconvert_exporter": "python",
      "pygments_lexer": "ipython3",
      "version": "3.9.7"
    },
    "colab": {
      "name": "apriori project pp.ipynb",
      "provenance": [],
      "collapsed_sections": []
    }
  },
  "nbformat": 4,
  "nbformat_minor": 5
}